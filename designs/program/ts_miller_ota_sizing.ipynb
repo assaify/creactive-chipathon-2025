{
 "cells": [
  {
   "cell_type": "code",
   "execution_count": 388,
   "id": "a47ff10f",
   "metadata": {},
   "outputs": [],
   "source": [
    "from pygmid import Lookup as lk\n",
    "import numpy as np\n",
    "import scipy.constants as sc"
   ]
  },
  {
   "cell_type": "code",
   "execution_count": 389,
   "id": "5f7a6aa7",
   "metadata": {},
   "outputs": [],
   "source": [
    "n = lk('nfet_03v3.mat')\n",
    "p = lk('pfet_03v3.mat')"
   ]
  },
  {
   "cell_type": "code",
   "execution_count": 390,
   "id": "bf31be70",
   "metadata": {},
   "outputs": [],
   "source": [
    "c_load = 30e-12\n",
    "gm_id_m12 = 10\n",
    "gm_id_m34 = 5\n",
    "gm_id_m567 = 5\n",
    "gm_id_m8 = 5\n",
    "l_12 = 3\n",
    "l_34 = 3\n",
    "l_56 = 3\n",
    "l_7 = 3\n",
    "l_8 = 1\n",
    "f_bw = 10e6 # -3dB bandwidth of the voltage buffer\n",
    "i_tail_limit = 100e-6\n",
    "i_bias_in = 80e-6\n",
    "output_voltage = 1.3\n",
    "vin_min = 1.6\n",
    "vin_max = 1.7\n",
    "vdd_min = 3.3\n",
    "vdd_max = 3.3"
   ]
  },
  {
   "cell_type": "code",
   "execution_count": 391,
   "id": "173fc8b3",
   "metadata": {},
   "outputs": [
    {
     "name": "stdout",
     "output_type": "stream",
     "text": [
      "c_comp (exact) = 6600.0 fF\n",
      "c_comp (rounded) = 6600.0 fF\n"
     ]
    }
   ],
   "source": [
    "# To make sure PM of 60 degrees\n",
    "c_comp = (2.2/10) * c_load\n",
    "print('c_comp (exact) =', round(c_comp/1e-15, 1), 'fF')\n",
    "c_comp = round(c_comp/1e-15, 0) * 1e-15\n",
    "print('c_comp (rounded) =', round(c_comp/1e-15, 0), 'fF')"
   ]
  },
  {
   "cell_type": "code",
   "execution_count": 392,
   "id": "f30f273d",
   "metadata": {},
   "outputs": [
    {
     "name": "stdout",
     "output_type": "stream",
     "text": [
      "gm12 = 0.4147 mS\n"
     ]
    }
   ],
   "source": [
    "# Find gm_12\n",
    "gm_m12 = f_bw * 2* np.pi * c_comp\n",
    "print('gm12 =', round(gm_m12/1e-3, 4), 'mS')"
   ]
  },
  {
   "cell_type": "code",
   "execution_count": 393,
   "id": "2f95476e",
   "metadata": {},
   "outputs": [
    {
     "name": "stdout",
     "output_type": "stream",
     "text": [
      "i_tail (exact) = 82.9 µA\n",
      "i_tail (rounded) = 83.0 µA\n",
      "[info] power consumption target is met!\n"
     ]
    }
   ],
   "source": [
    "id_m12 = gm_m12 / gm_id_m12\n",
    "i_tail = 2*id_m12\n",
    "print('i_tail (exact) =', round(i_tail/1e-6, 1), 'µA')\n",
    "i_tail = round(i_tail/1e-6, 0) * 1e-6\n",
    "print('i_tail (rounded) =', round(i_tail/1e-6, 1), 'µA')\n",
    "id_m12 = i_tail/2\n",
    "if i_tail < i_tail_limit:\n",
    "    print('[info] power consumption target is met!')\n",
    "else:\n",
    "    print('[info] power consumption target is NOT met!') "
   ]
  },
  {
   "cell_type": "code",
   "execution_count": 394,
   "id": "e5c85580",
   "metadata": {},
   "outputs": [
    {
     "name": "stdout",
     "output_type": "stream",
     "text": [
      "id_m78 (exact) = 829.4 µA\n",
      "id_m78 (rounded) = 829.0 µA\n"
     ]
    }
   ],
   "source": [
    "gm_gds_m8 = p.lookup('GM_GDS', GM_ID=gm_id_m8, L=l_8, VDS=1.65, VSB=0)\n",
    "\n",
    "# General rule of thumb, gm of 2nd stage is 10 times gm of 1st stage\n",
    "gm_m8 = 10 * gm_m12\n",
    "gds_m8 = gm_m8 / gm_gds_m8\n",
    "\n",
    "# Output stage current\n",
    "id_m78 = gm_m8 / gm_id_m8\n",
    "print('id_m78 (exact) =', round(id_m78/1e-6, 1), 'µA')\n",
    "id_m78 = round(id_m78/1e-6, 0) * 1e-6\n",
    "print('id_m78 (rounded) =', round(id_m78/1e-6, 1), 'µA')"
   ]
  },
  {
   "cell_type": "code",
   "execution_count": 395,
   "id": "9abcde5d",
   "metadata": {},
   "outputs": [
    {
     "name": "stdout",
     "output_type": "stream",
     "text": [
      "a0 = 101.6 dB\n"
     ]
    }
   ],
   "source": [
    "gm_gds_m12 = n.lookup('GM_GDS', GM_ID=gm_id_m12, L=l_12, VDS=1.65, VSB=0)\n",
    "gm_gds_m34 = p.lookup('GM_GDS', GM_ID=gm_id_m34, L=l_34, VDS=1.65, VSB=0)\n",
    "\n",
    "gds_m12 = gm_m12 / gm_gds_m12\n",
    "gm_m34 = gm_id_m34 * i_tail/2\n",
    "gds_m34 = gm_m34 / gm_gds_m34\n",
    "\n",
    "gm_gds_m7 = n.lookup('GM_GDS', GM_ID=gm_id_m567, L=l_7, VDS=1.65, VSB=0)\n",
    "gm_m7 = gm_id_m567 * id_m78\n",
    "gds_m7 = gm_m7 / gm_gds_m7\n",
    "\n",
    "# DC gain\n",
    "a0 = (gm_m12 / (gds_m12 + gds_m34)) * (gm_m8 / (gds_m8 + gds_m7))\n",
    "print('a0 =', round(20*np.log10(a0), 1), 'dB')"
   ]
  },
  {
   "cell_type": "code",
   "execution_count": 396,
   "id": "571021a5",
   "metadata": {},
   "outputs": [
    {
     "name": "stdout",
     "output_type": "stream",
     "text": [
      "gm12 = 11.3097 mS\n",
      "cgsm12 = 12225.4549 fF\n"
     ]
    }
   ],
   "source": [
    "gm_m12 = f_bw * 3 * 4*np.pi*c_load\n",
    "print('gm12 =', round(gm_m12/1e-3, 4), 'mS')\n",
    "cgs_m12 = gm_m12/n.lookup('GM_CGS', GM_ID=gm_id_m12, L=l_12, VDS=1.65, VSB=0)\n",
    "print('cgsm12 =', round(cgs_m12/1e-15, 4), 'fF')"
   ]
  },
  {
   "cell_type": "code",
   "execution_count": 397,
   "id": "b3ea241a",
   "metadata": {},
   "outputs": [
    {
     "name": "stdout",
     "output_type": "stream",
     "text": [
      "vgs_12 = 0.81 V\n",
      "vgs_34 = 1.142 V\n",
      "vgs_56 = 1.029 V\n",
      "vgs_7 = 1.029 V\n",
      "vgs_8 = 1.029 V\n"
     ]
    }
   ],
   "source": [
    "vgs_m12 = n.look_upVGS(GM_ID=gm_id_m12, L=l_12, VDS=1.65, VSB=0.0)\n",
    "vgs_m34 = p.look_upVGS(GM_ID=gm_id_m34, L=l_34, VDS=1.65, VSB=0.0) \n",
    "vgs_m56 = n.look_upVGS(GM_ID=gm_id_m567, L=l_56, VDS=1.65, VSB=0.0) \n",
    "vgs_m7 = n.look_upVGS(GM_ID=gm_id_m567, L=l_7, VDS=1.65, VSB=0.0) \n",
    "vgs_m8 = n.look_upVGS(GM_ID=gm_id_m8, L=l_8, VDS=1.65, VSB=0.0) \n",
    "\n",
    "print('vgs_12 =', round(float(vgs_m12), 3), 'V')\n",
    "print('vgs_34 =', round(float(vgs_m34), 3), 'V')\n",
    "print('vgs_56 =', round(float(vgs_m56), 3), 'V')\n",
    "print('vgs_7 =', round(float(vgs_m56), 3), 'V')\n",
    "print('vgs_8 =', round(float(vgs_m56), 3), 'V')"
   ]
  },
  {
   "cell_type": "code",
   "execution_count": 403,
   "id": "77b7ffe3",
   "metadata": {},
   "outputs": [
    {
     "name": "stdout",
     "output_type": "stream",
     "text": [
      "M1/2 W = 62.85 um, rounded W = 63.0 um\n",
      "M3/4 W = 63.38 um, rounded W = 63.0 um\n",
      "M6 W = 26.93 um, rounded W = 27.0 um\n",
      "M5 W = 26.0 um\n",
      "M7 W = 269.0 um\n",
      "M8 W = 378.1 um, rounded W = 378.0 um\n"
     ]
    }
   ],
   "source": [
    "# calculate all widths\n",
    "id_w_m12 = n.lookup('ID_W', GM_ID=gm_id_m12, L=l_12, VDS=vgs_m12, VSB=0)\n",
    "w_12 = id_m12 / id_w_m12\n",
    "w_12_round = round(w_12, 0)\n",
    "print('M1/2 W =', round(w_12, 2), 'um, rounded W =', w_12_round, 'um')\n",
    "\n",
    "id_m34 = id_m12\n",
    "id_w_m34 = p.lookup('ID_W', GM_ID=gm_id_m34, L=l_34, VDS=vgs_m34, VSB=0)\n",
    "w_34 = id_m34 / id_w_m34\n",
    "w_34_round = round(w_34, 0)\n",
    "print('M3/4 W =', round(w_34, 2), 'um, rounded W =', w_34_round, 'um')\n",
    "\n",
    "id_w_m6 = n.lookup('ID_W', GM_ID=gm_id_m567, L=l_56, VDS=vgs_m56, VSB=0)\n",
    "w_6 = i_tail / id_w_m6\n",
    "w_6_round = round(w_6, 0)\n",
    "print('M6 W =', round(w_6, 2), 'um, rounded W =', w_6_round, 'um')\n",
    "w_5 = w_6_round * i_bias_in / i_tail\n",
    "w_5_round = round(w_5, 0)\n",
    "print('M5 W =', round(w_5_round, 2), 'um')\n",
    "w_7 = w_5_round * id_m78 / i_bias_in\n",
    "w_7_round = round(w_7, 0)\n",
    "print('M7 W =', round(w_7_round, 2), 'um')\n",
    "\n",
    "\n",
    "id_w_m8 = p.lookup('ID_W', GM_ID=gm_id_m8, L=l_8, VDS=vgs_m8, VSB=0)\n",
    "w_8 = id_m78 / id_w_m8\n",
    "w_8_round = max(round(w_8*2)/2, 0.5)\n",
    "print('M8 W =', round(w_8, 2), 'um, rounded W =', w_8_round, 'um')"
   ]
  },
  {
   "cell_type": "markdown",
   "id": "eaddbaf0",
   "metadata": {},
   "source": []
  }
 ],
 "metadata": {
  "kernelspec": {
   "display_name": "Python 3",
   "language": "python",
   "name": "python3"
  },
  "language_info": {
   "codemirror_mode": {
    "name": "ipython",
    "version": 3
   },
   "file_extension": ".py",
   "mimetype": "text/x-python",
   "name": "python",
   "nbconvert_exporter": "python",
   "pygments_lexer": "ipython3",
   "version": "3.12.3"
  }
 },
 "nbformat": 4,
 "nbformat_minor": 5
}
