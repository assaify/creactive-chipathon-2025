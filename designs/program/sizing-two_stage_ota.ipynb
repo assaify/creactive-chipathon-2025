{
 "cells": [
  {
   "cell_type": "markdown",
   "id": "1a155d6e",
   "metadata": {},
   "source": [
    "# Two stage miller OTA Sizing Script\n",
    "Reference: \n",
    "- CMOS Analog Circuit Design, Phillip E. Allen\n",
    "- gm/ID, Boris Murman"
   ]
  },
  {
   "cell_type": "code",
   "execution_count": 1,
   "id": "226ae9ba",
   "metadata": {},
   "outputs": [],
   "source": [
    "from pygmid import Lookup as lk\n",
    "import numpy as np"
   ]
  },
  {
   "cell_type": "code",
   "execution_count": 2,
   "id": "5bb28c2e",
   "metadata": {},
   "outputs": [
    {
     "name": "stdout",
     "output_type": "stream",
     "text": [
      "Voltage Swing: 3.3 V\n",
      "Settling Time: 0.08 us\n",
      "Slew Rate: 41.47 V/us\n",
      "C Miller: 6.6 pF\n",
      "Tail current: 273.7 uA\n",
      "gm 1: 0.41 mS\n"
     ]
    }
   ],
   "source": [
    "#Specs\n",
    "gain_bw = 10e6 #minimum gain bandwidth\n",
    "fc = gain_bw\n",
    "gain_db = 20 #minimum gain 20 dB\n",
    "phase_margin = 90 #minimum phase margin 90 deg\n",
    "c_load = 30e-12 # load capacitance\n",
    "vdd = 3.3\n",
    "vss = 0\n",
    "vdsat_pmos = 0 #vds saturation source follower PMOS output stage\n",
    "vdsat_nmos = 0 #vds saturation tail current source\n",
    "v_swing = vdd + abs(vss) - vdsat_pmos - vdsat_nmos\n",
    "ts = 5 / (2 * np.pi * gain_bw)\n",
    "sr = v_swing / ts\n",
    "c_miller = 0.22 * c_load #C Miller Compensation\n",
    "i_tail = sr * c_miller #I tail\n",
    "gm_1 = fc * 2 * np.pi * c_miller #input stage transconductace\n",
    "\n",
    "print(f\"Voltage Swing: {v_swing} V\")\n",
    "print(f\"Settling Time: {round(ts*1e6,2)} us\")\n",
    "print(f\"Slew Rate: {round(sr/1e6,2)} V/us\")\n",
    "print(f\"C Miller: {round(c_miller*1e12,2)} pF\")\n",
    "print(f\"Tail current: {round(i_tail*1e6,2)} uA\")\n",
    "print(f\"gm 1: {round(gm_1*1000,2)} mS\")"
   ]
  },
  {
   "cell_type": "code",
   "execution_count": 3,
   "id": "2f133f81",
   "metadata": {},
   "outputs": [],
   "source": [
    "def get_w(mos_type, gm, gm_id_spec, L_spec, vds, title='specs'):\n",
    "    \n",
    "    #Define the MOS type\n",
    "    if mos_type == 0:\n",
    "        mos_file = 'nfet_03v3.mat'\n",
    "    elif mos_type == 1:\n",
    "        mos_file = 'pfet_03v3.mat'\n",
    "    else:\n",
    "        print(f\"MOS type: 0: NMOS 3.3V, 1: PMOS 3.3\")\n",
    "        return\n",
    "    print(f\"==Transistor: {title}==\")\n",
    "    print(f\"gm: {round(gm*1e3,3)} mS\")\n",
    "    # the gm_gds we look up and calculate gds from it\n",
    "    mos = lk(mos_file)\n",
    "    vgs = mos.look_upVGS(GM_ID=gm_id_spec, L=L_spec, VDS=vds, VSB=0.0)\n",
    "    vgs = mos.look_upVGS(GM_ID=gm_id_spec, L=L_spec, VDS=vgs, VSB=0.0)\n",
    "    print('V_GS =', round(float(vgs), 3), 'V')\n",
    "\n",
    "    # the gm_gds we look up and calculate gds from it\n",
    "    gm_gds = mos.lookup('GM_GDS', GM_ID=gm_id_spec, L=L_spec, VDS=vgs, VSB=0)\n",
    "    gds = gm / gm_gds\n",
    "    print('gds =', round(gds/1e-9, 2), 'nS')\n",
    "\n",
    "    # find f_T (which is not stored directly, but we can find the gm to gate capacitance ratio)\n",
    "    gm_cgg = mos.lookup('GM_CGG', GM_ID=gm_id_spec, L=L_spec, VDS=vgs, VSB=0)\n",
    "    f_T = gm_cgg / (2*np.pi)\n",
    "    print('Cgg =', round(gm/gm_cgg/1e-15, 1), 'fF')\n",
    "    print('f_T =', round(f_T/1e6, 1), 'MHz')\n",
    "\n",
    "    # find the W of the diode transistor\n",
    "    id_spec = gm/gm_id_spec\n",
    "    print('Id =', round(id_spec*1000000, 2), 'uA, rounded Id =', round(id_spec*2000000)/2, 'uA')\n",
    "    id_w = mos.lookup('ID_W', GM_ID=gm_id_spec, L=L_spec, VDS=vgs, VSB=0)\n",
    "    w = id_spec / id_w\n",
    "    print('W =', round(w, 2), 'um, rounded W =', round(w*2)/2, 'um')      "
   ]
  },
  {
   "cell_type": "code",
   "execution_count": 4,
   "id": "c6a666e5",
   "metadata": {},
   "outputs": [
    {
     "name": "stdout",
     "output_type": "stream",
     "text": [
      "==Transistor: M1 & M2==\n",
      "gm: 0.415 mS\n",
      "V_GS = 0.834 V\n",
      "gds = 1350.42 nS\n",
      "Cgg = 56.7 fF\n",
      "f_T = 1164.1 MHz\n",
      "Id = 41.47 uA, rounded Id = 41.5 uA\n",
      "W = 18.83 um, rounded W = 19.0 um\n",
      "==Transistor: M3 & M4==\n",
      "gm: 0.207 mS\n",
      "V_GS = 1.148 V\n",
      "gds = 819.0 nS\n",
      "Cgg = 67.6 fF\n",
      "f_T = 488.0 MHz\n",
      "Id = 41.47 uA, rounded Id = 41.5 uA\n",
      "W = 18.86 um, rounded W = 19.0 um\n",
      "==Transistor: M5==\n",
      "gm: 0.415 mS\n",
      "V_GS = 1.038 V\n",
      "gds = 1738.66 nS\n",
      "Cgg = 29.6 fF\n",
      "f_T = 2229.0 MHz\n",
      "Id = 82.94 uA, rounded Id = 83.0 uA\n",
      "W = 8.92 um, rounded W = 9.0 um\n",
      "==Transistor: M6==\n",
      "gm: 4.147 mS\n",
      "V_GS = 0.942 V\n",
      "gds = 9628.05 nS\n",
      "Cgg = 2803.9 fF\n",
      "f_T = 235.4 MHz\n",
      "Id = 414.69 uA, rounded Id = 414.5 uA\n",
      "W = 803.52 um, rounded W = 803.5 um\n",
      "==Transistor: M7==\n",
      "gm: 2.073 mS\n",
      "V_GS = 1.038 V\n",
      "gds = 8693.32 nS\n",
      "Cgg = 148.0 fF\n",
      "f_T = 2229.0 MHz\n",
      "Id = 414.69 uA, rounded Id = 414.5 uA\n",
      "W = 44.62 um, rounded W = 44.5 um\n",
      "Rz: 1337.2522766674404\n"
     ]
    }
   ],
   "source": [
    "#Transistor sizing\n",
    "length = 1 # L = 2 um\n",
    "vds = vdd/2 \n",
    "#Input Pairs\n",
    "gmid_1 = 10\n",
    "id_1 = gm_1/gmid_1\n",
    "get_w(0,gm_1,gmid_1,length,vds,\"M1 & M2\")\n",
    "\n",
    "#Active Load\n",
    "gmid_2 = 5\n",
    "gm_2 = gmid_2 * id_1\n",
    "get_w(1,gm_2,gmid_2,length,vds,\"M3 & M4\")\n",
    "\n",
    "#Tail Current\n",
    "gmid_5 = 5\n",
    "gm_5 = gmid_5 * id_1 * 2\n",
    "get_w(0,gm_5,gmid_5,length,vds,\"M5\")\n",
    "\n",
    "#Common Source PMOS Output Stage\n",
    "gmid_6 = 10\n",
    "gm_6 = 10 * gm_1\n",
    "get_w(1, gm_6, gmid_6, length, vds, \"M6\")\n",
    "\n",
    "#Current source NMOS Output Stage\n",
    "gmid_7 = 5\n",
    "id_7 = 414.69e-6\n",
    "gm_7 = gmid_7 * id_7\n",
    "get_w(0, gm_7, gmid_7, length, vds, \"M7\")\n",
    "\n",
    "#Nulling Resistor\n",
    "rz = (c_miller + c_load)/c_miller/gm_6\n",
    "print(f\"Rz: {rz}\")"
   ]
  },
  {
   "cell_type": "code",
   "execution_count": 5,
   "id": "94b0dc51",
   "metadata": {},
   "outputs": [
    {
     "name": "stdout",
     "output_type": "stream",
     "text": [
      "DC gain = 92.72961094146113 dB\n"
     ]
    }
   ],
   "source": [
    "#Open Loop Gain\n",
    "gm_in = 0.415e-3\n",
    "gm_out = 4.147e-3\n",
    "gds_in1 = 1350.42e-9\n",
    "gds_in2 = 819e-9\n",
    "gds_out1 = 9628.05e-9\n",
    "gds_out2 = 8693.32e-9\n",
    "\n",
    "DC_gain = gm_in*gm_out/((gds_in1+gds_in2)*(gds_out1+gds_out2))\n",
    "print(f\"DC gain = {np.log10(DC_gain)*20} dB\")"
   ]
  },
  {
   "cell_type": "code",
   "execution_count": null,
   "id": "845e6377",
   "metadata": {},
   "outputs": [
    {
     "name": "stdout",
     "output_type": "stream",
     "text": [
      "V_GS = 0.818 V\n",
      "gds = 923.92 nS\n",
      "Cgg = 250.4 fF\n",
      "f_T = 279.6 MHz\n",
      "Id = 43.98 uA, rounded Id = 44.0 uA\n",
      "42.711395498628335\n",
      "W = 42.71 um, rounded W = 42.5 um\n"
     ]
    }
   ],
   "source": [
    "#NMOS Input Diffpairs\n",
    "get_w(0,0.4398e-3,10,2,3.3/2,'GM')"
   ]
  },
  {
   "cell_type": "code",
   "execution_count": 4,
   "id": "3607612c",
   "metadata": {},
   "outputs": [
    {
     "name": "stdout",
     "output_type": "stream",
     "text": [
      "V_GS = 1.144 V\n",
      "gds = 431.94 nS\n",
      "Cgg = 293.7 fF\n",
      "f_T = 119.2 MHz\n",
      "Id = 44.0 uA, rounded Id = 44.0 uA\n",
      "43.41722214305814\n",
      "W = 43.42 um, rounded W = 43.5 um\n"
     ]
    }
   ],
   "source": [
    "#PMOS Active Load\n",
    "gm_id = 5\n",
    "id = 44e-6\n",
    "gm = gm_id*id\n",
    "get_w(1,gm,5,2,3.3/2)"
   ]
  },
  {
   "cell_type": "code",
   "execution_count": 5,
   "id": "76641177",
   "metadata": {},
   "outputs": [
    {
     "name": "stdout",
     "output_type": "stream",
     "text": [
      "V_GS = 1.033 V\n",
      "gds = 1156.61 nS\n",
      "Cgg = 120.0 fF\n",
      "f_T = 583.7 MHz\n",
      "Id = 88.0 uA, rounded Id = 88.0 uA\n",
      "18.829940763124256\n",
      "W = 18.83 um, rounded W = 19.0 um\n"
     ]
    }
   ],
   "source": [
    "#NMOS Tail Current Source\n",
    "gm_id = 5\n",
    "id = 2*44e-6\n",
    "gm = gm_id*id\n",
    "get_w(0,gm,5,2,3.3/2)"
   ]
  },
  {
   "cell_type": "code",
   "execution_count": 6,
   "id": "e897424a",
   "metadata": {},
   "outputs": [
    {
     "name": "stdout",
     "output_type": "stream",
     "text": [
      "V_GS = 0.936 V\n",
      "gds = 5204.14 nS\n",
      "Cgg = 12170.9 fF\n",
      "f_T = 57.5 MHz\n",
      "Id = 440.0 uA, rounded Id = 440.0 uA\n",
      "1877.261814380366\n",
      "W = 1877.26 um, rounded W = 1877.5 um\n"
     ]
    }
   ],
   "source": [
    "#PMOS Output Stage\n",
    "gm_id = 10\n",
    "gm = 0.44e-3*10\n",
    "get_w(1,gm,10,2,3.3/2)"
   ]
  },
  {
   "cell_type": "code",
   "execution_count": 9,
   "id": "724f04c7",
   "metadata": {},
   "outputs": [
    {
     "name": "stdout",
     "output_type": "stream",
     "text": [
      "V_GS = 1.033 V\n",
      "gds = 5783.03 nS\n",
      "Cgg = 599.9 fF\n",
      "f_T = 583.7 MHz\n",
      "Id = 440.0 uA, rounded Id = 440.0 uA\n",
      "94.14970381562128\n",
      "W = 94.15 um, rounded W = 94.0 um\n"
     ]
    }
   ],
   "source": [
    "#NMOS Ouput Stage\n",
    "gm_id = 5\n",
    "id = 440e-6\n",
    "gm = gm_id*id\n",
    "get_w(0,gm,5,2,3.3/2)"
   ]
  },
  {
   "cell_type": "code",
   "execution_count": 4,
   "id": "34418aa5",
   "metadata": {},
   "outputs": [
    {
     "name": "stdout",
     "output_type": "stream",
     "text": [
      "DC gain = 102.26819514535018 dB\n"
     ]
    }
   ],
   "source": [
    "#Op-Amp Gain\n",
    "gm_in = 0.4398e-3\n",
    "gm_out = 0.4398e-3*10\n",
    "gds_in1 = 923.92e-9\n",
    "gds_in2 = 431.94e-9\n",
    "gds_out1 = 5204.14e-9\n",
    "gds_out2 = 5783.03e-9\n",
    "\n",
    "DC_gain = gm_in*gm_out/((gds_in1+gds_in2)*(gds_out1+gds_out2))\n",
    "print(f\"DC gain = {np.log10(DC_gain)*20} dB\")"
   ]
  }
 ],
 "metadata": {
  "kernelspec": {
   "display_name": ".venv",
   "language": "python",
   "name": "python3"
  },
  "language_info": {
   "codemirror_mode": {
    "name": "ipython",
    "version": 3
   },
   "file_extension": ".py",
   "mimetype": "text/x-python",
   "name": "python",
   "nbconvert_exporter": "python",
   "pygments_lexer": "ipython3",
   "version": "3.12.3"
  }
 },
 "nbformat": 4,
 "nbformat_minor": 5
}
