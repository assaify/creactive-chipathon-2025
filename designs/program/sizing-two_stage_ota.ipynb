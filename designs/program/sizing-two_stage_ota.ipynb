{
 "cells": [
  {
   "cell_type": "markdown",
   "id": "1a155d6e",
   "metadata": {},
   "source": [
    "# Two stage miller OTA Sizing Script\n",
    "Reference: \n",
    "- CMOS Analog Circuit Design, Phillip E. Allen\n",
    "- gm/ID, Boris Murman"
   ]
  },
  {
   "cell_type": "code",
   "execution_count": 1,
   "id": "226ae9ba",
   "metadata": {},
   "outputs": [],
   "source": [
    "from pygmid import Lookup as lk\n",
    "import numpy as np"
   ]
  },
  {
   "cell_type": "code",
   "execution_count": 2,
   "id": "5bb28c2e",
   "metadata": {},
   "outputs": [
    {
     "name": "stdout",
     "output_type": "stream",
     "text": [
      "Voltage Swing: 3.3 V\n",
      "Settling Time: 0.08 us\n",
      "Slew Rate: 41.47 V/us\n",
      "C Miller: 6.6 pF\n",
      "Tail current: 273.7 uA\n",
      "gm 1: 0.41 mS\n"
     ]
    }
   ],
   "source": [
    "#Specs\n",
    "gain_bw = 10e6 #minimum gain bandwidth\n",
    "fc = gain_bw\n",
    "gain_db = 20 #minimum gain 20 dB\n",
    "phase_margin = 90 #minimum phase margin 90 deg\n",
    "c_load = 30e-12 # load capacitance\n",
    "vdd = 3.3\n",
    "vss = 0\n",
    "vdsat_pmos = 0 #vds saturation source follower PMOS output stage\n",
    "vdsat_nmos = 0 #vds saturation tail current source\n",
    "v_swing = vdd + abs(vss) - vdsat_pmos - vdsat_nmos\n",
    "ts = 5 / (2 * np.pi * gain_bw)\n",
    "sr = v_swing / ts\n",
    "c_miller = 0.22 * c_load #C Miller Compensation\n",
    "i_tail = sr * c_miller #I tail\n",
    "gm_1 = fc * 2 * np.pi * c_miller #input stage transconductace (times 3 for PVT margin)\n",
    "\n",
    "print(f\"Voltage Swing: {v_swing} V\")\n",
    "print(f\"Settling Time: {round(ts*1e6,2)} us\")\n",
    "print(f\"Slew Rate: {round(sr/1e6,2)} V/us\")\n",
    "print(f\"C Miller: {round(c_miller*1e12,2)} pF\")\n",
    "print(f\"Tail current: {round(i_tail*1e6,2)} uA\")\n",
    "print(f\"gm 1: {round(gm_1*1000,2)} mS\")"
   ]
  },
  {
   "cell_type": "code",
   "execution_count": 3,
   "id": "2f133f81",
   "metadata": {},
   "outputs": [],
   "source": [
    "def get_w(mos_type, gm, gm_id_spec, L_spec, vds, title='specs'):\n",
    "    \n",
    "    #Define the MOS type\n",
    "    if mos_type == 0:\n",
    "        mos_file = 'nfet_03v3.mat'\n",
    "    elif mos_type == 1:\n",
    "        mos_file = 'pfet_03v3.mat'\n",
    "    else:\n",
    "        print(f\"MOS type: 0: NMOS 3.3V, 1: PMOS 3.3\")\n",
    "        return\n",
    "    print(f\"[Transistor: {title}]\")\n",
    "    print(f\"gm: {round(gm*1e3,3)} mS\")\n",
    "    # the gm_gds we look up and calculate gds from it\n",
    "    mos = lk(mos_file)\n",
    "    vgs = mos.look_upVGS(GM_ID=gm_id_spec, L=L_spec, VDS=vds, VSB=0.0)\n",
    "    vgs = mos.look_upVGS(GM_ID=gm_id_spec, L=L_spec, VDS=vgs, VSB=0.0)\n",
    "    print('V_GS =', round(float(vgs), 3), 'V')\n",
    "\n",
    "    # the gm_gds we look up and calculate gds from it\n",
    "    gm_gds = mos.lookup('GM_GDS', GM_ID=gm_id_spec, L=L_spec, VDS=vgs, VSB=0)\n",
    "    gds = gm / gm_gds\n",
    "    print('gds =', round(gds/1e-9, 2), 'nS')\n",
    "\n",
    "    # find f_T (which is not stored directly, but we can find the gm to gate capacitance ratio)\n",
    "    gm_cgg = mos.lookup('GM_CGG', GM_ID=gm_id_spec, L=L_spec, VDS=vgs, VSB=0)\n",
    "    f_T = gm_cgg / (2*np.pi)\n",
    "    print('Cgg =', round(gm/gm_cgg/1e-15, 1), 'fF')\n",
    "    print('f_T =', round(f_T/1e6, 1), 'MHz')\n",
    "\n",
    "    # find the W of the diode transistor\n",
    "    id_spec = gm/gm_id_spec\n",
    "    print('Id =', round(id_spec*1000000, 2), 'uA, rounded Id =', round(id_spec*2000000)/2, 'uA')\n",
    "    id_w = mos.lookup('ID_W', GM_ID=gm_id_spec, L=L_spec, VDS=vgs, VSB=0)\n",
    "    w = id_spec / id_w\n",
    "    print('W =', round(w, 2), 'um, rounded W =', round(w*2)/2, 'um')      \n",
    "\n",
    "    return [gds,id_spec]"
   ]
  },
  {
   "cell_type": "code",
   "execution_count": 4,
   "id": "20ae7eb5",
   "metadata": {},
   "outputs": [
    {
     "name": "stdout",
     "output_type": "stream",
     "text": [
      "[Transistor: M1 & M2]\n",
      "gm: 0.415 mS\n"
     ]
    },
    {
     "name": "stdout",
     "output_type": "stream",
     "text": [
      "V_GS = 0.837 V\n",
      "gds = 1616.14 nS\n",
      "Cgg = 37.5 fF\n",
      "f_T = 1760.9 MHz\n",
      "Id = 41.47 uA, rounded Id = 41.5 uA\n",
      "W = 15.12 um, rounded W = 15.0 um\n",
      "[Transistor: M3 & M4]\n",
      "gm: 0.207 mS\n",
      "V_GS = 1.149 V\n",
      "gds = 1017.61 nS\n",
      "Cgg = 42.9 fF\n",
      "f_T = 769.1 MHz\n",
      "Id = 41.47 uA, rounded Id = 41.5 uA\n",
      "W = 14.6 um, rounded W = 14.5 um\n",
      "[Transistor: M5]\n",
      "gm: 0.415 mS\n",
      "V_GS = 1.038 V\n",
      "gds = 2130.35 nS\n",
      "Cgg = 19.9 fF\n",
      "f_T = 3309.9 MHz\n",
      "Id = 82.94 uA, rounded Id = 83.0 uA\n",
      "W = 7.3 um, rounded W = 7.5 um\n"
     ]
    }
   ],
   "source": [
    "#Transistor sizing\n",
    "length =0.8   # L = 2 um\n",
    "vds = vdd/2 \n",
    "#Input Pairs\n",
    "gmid_1 = 10\n",
    "id_1 = gm_1/gmid_1\n",
    "gds_1,id_1 = get_w(0,gm_1,gmid_1,length,vds,\"M1 & M2\")\n",
    "\n",
    "#Active Load\n",
    "gmid_2 = 5\n",
    "gm_2 = gmid_2 * id_1\n",
    "gds_2,id_2 = get_w(1,gm_2,gmid_2,length,vds,\"M3 & M4\")\n",
    "\n",
    "#Tail Current\n",
    "gmid_5 = 5\n",
    "gm_5 = gmid_5 * id_1 * 2\n",
    "gds_5,id_5 = get_w(0,gm_5,gmid_5,length,vds,\"M5\")"
   ]
  },
  {
   "cell_type": "code",
   "execution_count": 5,
   "id": "059f333e",
   "metadata": {},
   "outputs": [
    {
     "name": "stdout",
     "output_type": "stream",
     "text": [
      "[Transistor: M6]\n",
      "gm: 4.147 mS\n",
      "V_GS = 1.141 V\n",
      "gds = 36269.83 nS\n",
      "Cgg = 328.1 fF\n",
      "f_T = 2011.5 MHz\n",
      "Id = 829.38 uA, rounded Id = 829.5 uA\n",
      "W = 167.08 um, rounded W = 167.0 um\n"
     ]
    }
   ],
   "source": [
    "#Common Source PMOS Output Stage\n",
    "gmid_6 = 5\n",
    "gm_6 = 10 * gm_1\n",
    "gds_6,id_6 = get_w(1, gm_6, gmid_6, 0.5, vds, \"M6\")"
   ]
  },
  {
   "cell_type": "code",
   "execution_count": 6,
   "id": "dd0135eb",
   "metadata": {},
   "outputs": [
    {
     "name": "stdout",
     "output_type": "stream",
     "text": [
      "[Transistor: M7]\n",
      "gm: 4.147 mS\n"
     ]
    },
    {
     "name": "stdout",
     "output_type": "stream",
     "text": [
      "V_GS = 1.038 V\n",
      "gds = 21303.53 nS\n",
      "Cgg = 199.4 fF\n",
      "f_T = 3309.9 MHz\n",
      "Id = 829.38 uA, rounded Id = 829.5 uA\n",
      "W = 73.04 um, rounded W = 73.0 um\n",
      "Rz: 9284.038347027228\n"
     ]
    }
   ],
   "source": [
    "#Current source NMOS Output Stage\n",
    "gmid_7 = 5\n",
    "id_7 = id_6\n",
    "gm_7 = gmid_7 * id_7\n",
    "gds_7,id_7 = get_w(0, gm_7, gmid_7, length, vds, \"M7\")\n",
    "\n",
    "#Nulling Resistor\n",
    "c_miller=0.8e-12\n",
    "rz = (c_miller + c_load)/c_miller/gm_6\n",
    "print(f\"Rz: {rz}\")"
   ]
  },
  {
   "cell_type": "code",
   "execution_count": 7,
   "id": "94b0dc51",
   "metadata": {},
   "outputs": [
    {
     "name": "stdout",
     "output_type": "stream",
     "text": [
      "DC gain = 81.09304300417398 dB\n"
     ]
    }
   ],
   "source": [
    "#Open Loop Gain\n",
    "gm_in = gm_1\n",
    "gm_out = gm_6\n",
    "gds_in1 = gds_1\n",
    "gds_in2 =  gds_2 # 819e-9\n",
    "gds_out1 = gds_6 # 9628.05e-9\n",
    "gds_out2 = gds_7  #8693.32e-9\n",
    "\n",
    "DC_gain = gm_in*gm_out/((gds_in1+gds_in2)*(gds_out1+gds_out2))\n",
    "print(f\"DC gain = {np.log10(DC_gain)*20} dB\")"
   ]
  }
 ],
 "metadata": {
  "kernelspec": {
   "display_name": "Python 3",
   "language": "python",
   "name": "python3"
  },
  "language_info": {
   "codemirror_mode": {
    "name": "ipython",
    "version": 3
   },
   "file_extension": ".py",
   "mimetype": "text/x-python",
   "name": "python",
   "nbconvert_exporter": "python",
   "pygments_lexer": "ipython3",
   "version": "3.12.3"
  }
 },
 "nbformat": 4,
 "nbformat_minor": 5
}
